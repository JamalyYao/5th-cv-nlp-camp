{
 "cells": [
  {
   "cell_type": "code",
   "execution_count": 64,
   "metadata": {},
   "outputs": [],
   "source": [
    "import pandas as pd\n",
    "import numpy as np\n",
    "import gc\n",
    "import time\n",
    "from contextlib import contextmanager\n",
    "import lightgbm as lgb\n",
    "import xgboost as xgb\n",
    "from sklearn.metrics import roc_auc_score, roc_curve, f1_score\n",
    "from sklearn.model_selection import KFold, StratifiedKFold\n",
    "import matplotlib.pyplot as plt\n",
    "import seaborn as sns\n",
    "import warnings\n",
    "import category_encoders as ce\n",
    "import pickle\n",
    "from sklearn.svm import SVC\n",
    "warnings.simplefilter(action='ignore', category=FutureWarning)"
   ]
  },
  {
   "cell_type": "code",
   "execution_count": 65,
   "metadata": {},
   "outputs": [],
   "source": [
    "train = pd.read_csv(\"../data/sample_train.txt\", delimiter=\"\\t\")\n",
    "test = pd.read_csv(\"../data/test_id.txt\", delimiter=\"\\t\")"
   ]
  },
  {
   "cell_type": "code",
   "execution_count": 66,
   "metadata": {},
   "outputs": [],
   "source": [
    "df = pd.concat([train, test], axis=0)"
   ]
  },
  {
   "cell_type": "code",
   "execution_count": 67,
   "metadata": {},
   "outputs": [],
   "source": [
    "risk = pd.read_csv(\"../features/risk/risk.csv\")\n",
    "df = df.merge(risk, on=\"id\", how=\"left\")"
   ]
  },
  {
   "cell_type": "code",
   "execution_count": 68,
   "metadata": {},
   "outputs": [],
   "source": [
    "symbol = pd.read_csv(\"../features/symbol/symbol.csv\")\n",
    "df = df.merge(symbol, on=\"id\", how=\"left\")"
   ]
  },
  {
   "cell_type": "code",
   "execution_count": 69,
   "metadata": {},
   "outputs": [],
   "source": [
    "# dp_emb = pd.read_csv(\"../features/graph/graph_filtered_64.emb\")\n",
    "# df = df.merge(dp_emb, on=\"id\", how=\"left\")"
   ]
  },
  {
   "cell_type": "code",
   "execution_count": 70,
   "metadata": {},
   "outputs": [],
   "source": [
    "dp_emb = pd.read_csv(\"../features/graph/deepwalk_192_filtered.emb\")\n",
    "df = df.merge(dp_emb, on=\"id\", how=\"left\")"
   ]
  },
  {
   "cell_type": "code",
   "execution_count": 71,
   "metadata": {},
   "outputs": [
    {
     "data": {
      "text/plain": [
       "(28442, 193)"
      ]
     },
     "execution_count": 71,
     "metadata": {},
     "output_type": "execute_result"
    }
   ],
   "source": [
    "dp_emb.shape"
   ]
  },
  {
   "cell_type": "code",
   "execution_count": 72,
   "metadata": {},
   "outputs": [],
   "source": [
    "# nv_emb = pd.read_csv(\"../data/edge/node2vec_64.emb\")\n",
    "# df = df.merge(nv_emb, on=\"id\", how=\"left\")"
   ]
  },
  {
   "cell_type": "code",
   "execution_count": 73,
   "metadata": {},
   "outputs": [],
   "source": [
    "graph_info = pd.read_csv(\"../features/graph/graph_info.csv\")\n",
    "df = df.merge(graph_info, on=\"id\", how=\"left\")"
   ]
  },
  {
   "cell_type": "code",
   "execution_count": 74,
   "metadata": {},
   "outputs": [],
   "source": [
    "# app_pca = pd.read_csv(\"../data/app/app_pca_16.csv\")\n",
    "# df = df.merge(app_pca, on=\"id\", how=\"left\")\n",
    "\n",
    "app_lda = pd.read_csv(\"../features/app/app_lda_16.csv\")\n",
    "df = df.merge(app_lda, on=\"id\", how=\"left\")\n",
    "\n",
    "# app_lda = pd.read_csv(\"../data1/app/app_lda_16.csv\")\n",
    "# df = df.merge(app_lda, on=\"id\", how=\"left\")\n",
    "\n",
    "# app_nmf = pd.read_csv(\"../data/app/app_nmf_16.csv\")\n",
    "# df = df.merge(app_nmf, on=\"id\", how=\"left\")"
   ]
  },
  {
   "cell_type": "code",
   "execution_count": 75,
   "metadata": {},
   "outputs": [],
   "source": [
    "# app_info = pd.read_csv(\"../features/app/app_info.csv\")\n",
    "# df = df.merge(app_info, on=\"id\", how=\"left\")"
   ]
  },
  {
   "cell_type": "markdown",
   "metadata": {},
   "source": [
    "app_graph"
   ]
  },
  {
   "cell_type": "code",
   "execution_count": 76,
   "metadata": {},
   "outputs": [],
   "source": [
    "# to_pca = pd.read_csv(\"../features/app_graph/to_app_pca_mean.csv\")\n",
    "# from_pca = pd.read_csv(\"../features/app_graph/from_app_pca_mean.csv\")\n",
    "\n",
    "# df = df.merge(to_pca, on=\"id\", how=\"left\")\n",
    "# df = df.merge(from_pca, on=\"id\", how=\"left\")\n",
    "\n",
    "to_pca = pd.read_csv(\"../features/app_graph/to_app_pca_num_mean.csv\")\n",
    "from_pca = pd.read_csv(\"../features/app_graph/from_app_pca_num_mean.csv\")\n",
    "\n",
    "df = df.merge(to_pca, on=\"id\", how=\"left\")\n",
    "df = df.merge(from_pca, on=\"id\", how=\"left\")\n",
    "\n",
    "to_pca = pd.read_csv(\"../features/app_graph/to_app_pca_weight_mean.csv\")\n",
    "from_pca = pd.read_csv(\"../features/app_graph/from_app_pca_weight_mean.csv\")\n",
    "\n",
    "df = df.merge(to_pca, on=\"id\", how=\"left\")\n",
    "df = df.merge(from_pca, on=\"id\", how=\"left\")"
   ]
  },
  {
   "cell_type": "code",
   "execution_count": 77,
   "metadata": {},
   "outputs": [],
   "source": [
    "# to_pca_nmf = pd.read_csv(\"../features/app_graph/to_app_nmf_mean.csv\")\n",
    "# from_pca_nmf = pd.read_csv(\"../features/app_graph/from_app_nmf_mean.csv\")\n",
    "\n",
    "# df = df.merge(to_pca_nmf, on=\"id\", how=\"left\")\n",
    "# df = df.merge(from_pca_nmf, on=\"id\", how=\"left\")\n",
    "\n",
    "# to_pca_nmf = pd.read_csv(\"../features/app_graph/to_app_nmf_num_mean.csv\")\n",
    "# from_pca_nmf = pd.read_csv(\"../features/app_graph/from_app_nmf_num_mean.csv\")\n",
    "\n",
    "# df = df.merge(to_pca_nmf, on=\"id\", how=\"left\")\n",
    "# df = df.merge(from_pca_nmf, on=\"id\", how=\"left\")\n",
    "\n",
    "# to_pca_nmf = pd.read_csv(\"../features/app_graph/to_app_nmf_weight_mean.csv\")\n",
    "# from_pca_nmf = pd.read_csv(\"../features/app_graph/from_app_nmf_weight_mean.csv\")\n",
    "\n",
    "# df = df.merge(to_pca_nmf, on=\"id\", how=\"left\")\n",
    "# df = df.merge(from_pca_nmf, on=\"id\", how=\"left\")"
   ]
  },
  {
   "cell_type": "code",
   "execution_count": 78,
   "metadata": {},
   "outputs": [],
   "source": [
    "# to_lda = pd.read_csv(\"../features/app_graph/to_app_lda_mean.csv\")\n",
    "# from_lda = pd.read_csv(\"../features/app_graph/from_app_lda_mean.csv\")\n",
    "\n",
    "# df = df.merge(to_lda, on=\"id\", how=\"left\")\n",
    "# df = df.merge(from_lda, on=\"id\", how=\"left\")\n",
    "\n",
    "# to_lda = pd.read_csv(\"../features/app_graph/to_app_lda_num_mean.csv\")\n",
    "# from_lda = pd.read_csv(\"../features/app_graph/from_app_lda_num_mean.csv\")\n",
    "\n",
    "# df = df.merge(to_lda, on=\"id\", how=\"left\")\n",
    "# df = df.merge(from_lda, on=\"id\", how=\"left\")\n",
    "\n",
    "# to_lda = pd.read_csv(\"../features/app_graph/to_app_lda_weight_mean.csv\")\n",
    "# from_lda = pd.read_csv(\"../features/app_graph/from_app_lda_weight_mean.csv\")\n",
    "\n",
    "# df = df.merge(to_lda, on=\"id\", how=\"left\")\n",
    "# df = df.merge(from_lda, on=\"id\", how=\"left\")"
   ]
  },
  {
   "cell_type": "markdown",
   "metadata": {},
   "source": [
    "risk_graph"
   ]
  },
  {
   "cell_type": "code",
   "execution_count": 79,
   "metadata": {},
   "outputs": [],
   "source": [
    "# to_risk = pd.read_csv(\"../features/risk_graph/to_risk_mean.csv\")\n",
    "# from_risk = pd.read_csv(\"../features/risk_graph/from_risk_mean.csv\")\n",
    "\n",
    "# df = df.merge(to_risk, on=\"id\", how=\"left\")\n",
    "# df = df.merge(from_risk, on=\"id\", how=\"left\")\n",
    "\n",
    "to_risk = pd.read_csv(\"../features/risk_graph/to_risk_num_mean.csv\")\n",
    "from_risk = pd.read_csv(\"../features/risk_graph/from_risk_num_mean.csv\")\n",
    "\n",
    "df = df.merge(to_risk, on=\"id\", how=\"left\")\n",
    "df = df.merge(from_risk, on=\"id\", how=\"left\")\n",
    "\n",
    "to_risk = pd.read_csv(\"../features/risk_graph/to_risk_weight_mean.csv\")\n",
    "from_risk = pd.read_csv(\"../features/risk_graph/from_risk_weight_mean.csv\")\n",
    "\n",
    "df = df.merge(to_risk, on=\"id\", how=\"left\")\n",
    "df = df.merge(from_risk, on=\"id\", how=\"left\")\n",
    "\n",
    "# to_risk = pd.read_csv(\"../features/risk_graph/to_risk_sum.csv\")\n",
    "# from_risk = pd.read_csv(\"../features/risk_graph/from_risk_sum.csv\")\n",
    "\n",
    "# df = df.merge(to_risk, on=\"id\", how=\"left\")\n",
    "# df = df.merge(from_risk, on=\"id\", how=\"left\")\n",
    "\n",
    "to_risk = pd.read_csv(\"../features/risk_graph/to_risk_num_sum.csv\")\n",
    "from_risk = pd.read_csv(\"../features/risk_graph/from_risk_num_sum.csv\")\n",
    "\n",
    "df = df.merge(to_risk, on=\"id\", how=\"left\")\n",
    "df = df.merge(from_risk, on=\"id\", how=\"left\")\n",
    "\n",
    "to_risk = pd.read_csv(\"../features/risk_graph/to_risk_weight_sum.csv\")\n",
    "from_risk = pd.read_csv(\"../features/risk_graph/from_risk_weight_sum.csv\")\n",
    "\n",
    "df = df.merge(to_risk, on=\"id\", how=\"left\")\n",
    "df = df.merge(from_risk, on=\"id\", how=\"left\")"
   ]
  },
  {
   "cell_type": "markdown",
   "metadata": {},
   "source": [
    "symbol_graph"
   ]
  },
  {
   "cell_type": "code",
   "execution_count": 80,
   "metadata": {},
   "outputs": [],
   "source": [
    "# to_cat_num = pd.read_csv(\"../features/symbol_graph/to_symbol_sum.csv\")\n",
    "# from_cat_num = pd.read_csv(\"../features/symbol_graph/from_symbol_sum.csv\")\n",
    "\n",
    "# df = df.merge(to_cat_num, on=\"id\", how=\"left\")\n",
    "# df = df.merge(from_cat_num, on=\"id\", how=\"left\")\n",
    "\n",
    "# to_cat_num = pd.read_csv(\"../features/symbol_graph/to_symbol_num_sum.csv\")\n",
    "# from_cat_num = pd.read_csv(\"../features/symbol_graph/from_symbol_num_sum.csv\")\n",
    "\n",
    "# df = df.merge(to_cat_num, on=\"id\", how=\"left\")\n",
    "# df = df.merge(from_cat_num, on=\"id\", how=\"left\")\n",
    "\n",
    "# to_cat_weight = pd.read_csv(\"../features/symbol_graph/to_symbol_weight_sum.csv\")\n",
    "# from_cat_weight = pd.read_csv(\"../features/symbol_graph/from_symbol_weight_sum.csv\")\n",
    "\n",
    "# df = df.merge(to_cat_weight, on=\"id\", how=\"left\")\n",
    "# df = df.merge(from_cat_weight, on=\"id\", how=\"left\")\n",
    "\n",
    "# to_cat_num = pd.read_csv(\"../features/symbol_graph/to_symbol_mean.csv\")\n",
    "# from_cat_num = pd.read_csv(\"../features/symbol_graph/from_symbol_mean.csv\")\n",
    "\n",
    "# df = df.merge(to_cat_num, on=\"id\", how=\"left\")\n",
    "# df = df.merge(from_cat_num, on=\"id\", how=\"left\")\n",
    "\n",
    "to_cat_num = pd.read_csv(\"../features/symbol_graph/to_symbol_num_mean.csv\")\n",
    "from_cat_num = pd.read_csv(\"../features/symbol_graph/from_symbol_num_mean.csv\")\n",
    "\n",
    "df = df.merge(to_cat_num, on=\"id\", how=\"left\")\n",
    "df = df.merge(from_cat_num, on=\"id\", how=\"left\")\n",
    "\n",
    "to_cat_weight = pd.read_csv(\"../features/symbol_graph/to_symbol_weight_mean.csv\")\n",
    "from_cat_weight = pd.read_csv(\"../features/symbol_graph/from_symbol_weight_mean.csv\")\n",
    "\n",
    "df = df.merge(to_cat_weight, on=\"id\", how=\"left\")\n",
    "df = df.merge(from_cat_weight, on=\"id\", how=\"left\")"
   ]
  },
  {
   "cell_type": "markdown",
   "metadata": {},
   "source": [
    "knn"
   ]
  },
  {
   "cell_type": "code",
   "execution_count": 81,
   "metadata": {},
   "outputs": [],
   "source": [
    "# dp_knn = pd.read_csv(\"../features/knn/dp_knn_3.csv\")\n",
    "# df = df.merge(dp_knn, on=\"id\", how=\"left\")\n",
    "\n",
    "# dp_knn = pd.read_csv(\"../features/knn/dp_knn_10.csv\")\n",
    "# df = df.merge(dp_knn, on=\"id\", how=\"left\")\n",
    "\n",
    "# dp_knn = pd.read_csv(\"../features/knn/dp_knn_30.csv\")\n",
    "# df = df.merge(dp_knn, on=\"id\", how=\"left\")\n",
    "\n",
    "# dp_knn = pd.read_csv(\"../features/knn/dp_knn_100.csv\")\n",
    "# df = df.merge(dp_knn, on=\"id\", how=\"left\")\n",
    "\n",
    "# dp_knn = pd.read_csv(\"../features/knn/dp_knn_300.csv\")\n",
    "# df = df.merge(dp_knn, on=\"id\", how=\"left\")"
   ]
  },
  {
   "cell_type": "markdown",
   "metadata": {},
   "source": [
    "中心性"
   ]
  },
  {
   "cell_type": "code",
   "execution_count": 82,
   "metadata": {},
   "outputs": [],
   "source": [
    "pr = pd.read_csv(\"../features/graph/pagerank.csv\")\n",
    "df = df.merge(pr, on=\"id\", how=\"left\")"
   ]
  },
  {
   "cell_type": "code",
   "execution_count": 83,
   "metadata": {},
   "outputs": [],
   "source": [
    "for d in [\"to\", \"from\"]:\n",
    "    for w in ['', '_num', '_weight']:\n",
    "        for f in ['sum', 'mean']:\n",
    "            a = pd.read_csv(\"../features/graph/%s_pagerank%s_%s.csv\" % (d, w, f))\n",
    "            df = df.merge(a, on=\"id\", how=\"left\")"
   ]
  },
  {
   "cell_type": "code",
   "execution_count": 84,
   "metadata": {},
   "outputs": [],
   "source": [
    "hits = pd.read_csv(\"../features/graph/hits.csv\")\n",
    "df = df.merge(hits, on=\"id\", how=\"left\")\n",
    "\n",
    "for d in [\"to\", \"from\"]:\n",
    "    for w in ['', '_num', '_weight']:\n",
    "        for f in ['sum', 'mean']:\n",
    "            a = pd.read_csv(\"../features/graph/%s_hits%s_%s.csv\" % (d, w, f))\n",
    "            df = df.merge(a, on=\"id\", how=\"left\")"
   ]
  },
  {
   "cell_type": "markdown",
   "metadata": {},
   "source": [
    "二度联系人"
   ]
  },
  {
   "cell_type": "code",
   "execution_count": 85,
   "metadata": {},
   "outputs": [],
   "source": [
    "# 联系人个数\n",
    "for d1 in [\"from\", \"to\"]:\n",
    "    for d2 in [\"from\", \"to\"]:\n",
    "        for t in [\"\", \"_num\", \"_weight\"]:\n",
    "            for f in [\"sum\", \"mean\"]:\n",
    "                a = pd.read_csv(\"../features/graph/%s_d2_%s%s_%s.csv\" % (d1, d2, t, f))\n",
    "                df = df.merge(a, on=\"id\", how=\"left\")"
   ]
  },
  {
   "cell_type": "code",
   "execution_count": 86,
   "metadata": {},
   "outputs": [],
   "source": [
    "# 二度联系人PageRank值\n",
    "for d1 in [\"from\", \"to\"]:\n",
    "    for d2 in [\"from\", \"to\"]:\n",
    "        for t in [\"num\", \"weight\"]:\n",
    "            for f in [\"mean\"]:\n",
    "                a = pd.read_csv(\"../features/graph/%s_pg_%s_%s_%s_%s_%s.csv\" % (d1, d2, t, f, t, f))\n",
    "                df = df.merge(a, on=\"id\", how=\"left\")"
   ]
  },
  {
   "cell_type": "code",
   "execution_count": 87,
   "metadata": {},
   "outputs": [],
   "source": [
    "# for d1 in [\"from\", \"to\"]:\n",
    "#     for d2 in [\"from\", \"to\"]:\n",
    "#         for t in [\"num\", \"weight\"]:\n",
    "#             for f in [\"sum\", \"mean\"]:\n",
    "#                 a = pd.read_csv(\"../features/graph/%s_hits_%s_%s_%s_%s_%s.csv\" % (d1, d2, t, f, t, f))\n",
    "#                 df = df.merge(a, on=\"id\", how=\"left\")"
   ]
  },
  {
   "cell_type": "code",
   "execution_count": 88,
   "metadata": {},
   "outputs": [],
   "source": [
    "def  process_feature(train_x, valid_x, test_df):\n",
    "    result = []\n",
    "    drop_cols = ['id','label']\n",
    "    for df in [train_x, valid_x, test_df]:\n",
    "        result.append(df.drop(drop_cols, axis=1))\n",
    "    return result "
   ]
  },
  {
   "cell_type": "code",
   "execution_count": 89,
   "metadata": {},
   "outputs": [],
   "source": [
    "import os\n",
    "def cv(df, num_folds, param, model_dir, stratified=True, debug=False):\n",
    "    if not os.path.exists(model_dir):\n",
    "        os.mkdir(model_dir)\n",
    "    train_df = df[df.label.notnull()]\n",
    "    test_df = df[df.label.isnull()]\n",
    "    seed = 178\n",
    "    if \"seed\" in param:\n",
    "        seed = param[\"seed\"]\n",
    "        del param['seed']\n",
    "    \n",
    "    if stratified:\n",
    "        folds = StratifiedKFold(n_splits= num_folds, shuffle=True, random_state=seed)\n",
    "    else:\n",
    "        folds = KFold(n_splits= num_folds, shuffle=True, random_state=seed)\n",
    "        \n",
    "    oof_preds = np.zeros(train_df.shape[0])\n",
    "    all_test_preds = []    \n",
    "    feature_importance_df = pd.DataFrame()\n",
    "    for n_fold, (train_idx, valid_idx) in enumerate(folds.split(train_df, train_df['label'])):\n",
    "        train_x, train_y = train_df.iloc[train_idx], train_df['label'].iloc[train_idx]\n",
    "        valid_x, valid_y = train_df.iloc[valid_idx], train_df['label'].iloc[valid_idx]\n",
    "        fold_preds = test_df[[\"id\"]]\n",
    "        \n",
    "        train_x, valid_x, test = process_feature(train_x, valid_x, test_df)\n",
    "        if n_fold == 0:\n",
    "            print(train_x.shape, valid_x.shape, test.shape)\n",
    "        \n",
    "        train_data = lgb.Dataset(train_x, label=train_y)\n",
    "        validation_data = lgb.Dataset(valid_x, label=valid_y)\n",
    "\n",
    "        clf=lgb.train(params,\n",
    "                      train_data,\n",
    "                      num_boost_round=10000,\n",
    "                      valid_sets=[train_data, validation_data],\n",
    "                      valid_names=[\"train\", \"valid\"],\n",
    "                      early_stopping_rounds=100,\n",
    "                      verbose_eval=100)\n",
    "\n",
    "        valid_preds = clf.predict(valid_x, num_iteration=clf.best_iteration)\n",
    "        test_preds = clf.predict(test, num_iteration=clf.best_iteration)\n",
    "\n",
    "        fold_preds['prob'] = test_preds\n",
    "        fold_preds['fold_id'] = n_fold + 1\n",
    "        all_test_preds.append(fold_preds)\n",
    "        \n",
    "        oof_preds[valid_idx] = valid_preds\n",
    "        \n",
    "        print('Fold %2d AUC : %.6f' % (n_fold + 1, roc_auc_score(valid_y, valid_preds)))\n",
    "        \n",
    "        del clf, train_x, train_y, valid_x, valid_y\n",
    "        gc.collect()\n",
    "    full_auc = roc_auc_score(train_df['label'], oof_preds)\n",
    "    print('Full AUC score %.6f' % full_auc)\n",
    "    \n",
    "    if not debug:\n",
    "        train_df[\"prob\"] = oof_preds\n",
    "        train_df[['id', 'prob']].to_csv(model_dir + \"pred_train.csv\", index= False)\n",
    "\n",
    "        all_test_preds = pd.concat(all_test_preds, axis=0)\n",
    "        all_test_preds.to_csv(model_dir + \"all_test_preds.csv\", index=False)\n",
    "        \n",
    "        sub = pd.DataFrame()\n",
    "        sub['id'] = all_test_preds.id.unique()\n",
    "        sub.set_index(\"id\", inplace=True)\n",
    "        sub[\"prob\"] = all_test_preds.groupby(\"id\").prob.mean()\n",
    "        sub.reset_index().to_csv(model_dir + \"sub.txt\", index=False)\n",
    "    return full_auc"
   ]
  },
  {
   "cell_type": "code",
   "execution_count": 94,
   "metadata": {},
   "outputs": [
    {
     "name": "stdout",
     "output_type": "stream",
     "text": [
      "(15166, 628) (3793, 628) (6000, 628)\n",
      "Training until validation scores don't improve for 100 rounds.\n",
      "[100]\ttrain's auc: 0.835142\tvalid's auc: 0.653671\n",
      "[200]\ttrain's auc: 0.892334\tvalid's auc: 0.672952\n",
      "[300]\ttrain's auc: 0.924587\tvalid's auc: 0.681574\n",
      "[400]\ttrain's auc: 0.943635\tvalid's auc: 0.68718\n",
      "[500]\ttrain's auc: 0.957435\tvalid's auc: 0.692288\n",
      "[600]\ttrain's auc: 0.967129\tvalid's auc: 0.695602\n",
      "[700]\ttrain's auc: 0.973927\tvalid's auc: 0.695587\n",
      "[800]\ttrain's auc: 0.980036\tvalid's auc: 0.69757\n",
      "[900]\ttrain's auc: 0.983828\tvalid's auc: 0.696633\n",
      "Early stopping, best iteration is:\n",
      "[807]\ttrain's auc: 0.980288\tvalid's auc: 0.69786\n"
     ]
    },
    {
     "name": "stderr",
     "output_type": "stream",
     "text": [
      "/home/LAB/yanhao/anaconda3/lib/python3.6/site-packages/ipykernel_launcher.py:43: SettingWithCopyWarning: \n",
      "A value is trying to be set on a copy of a slice from a DataFrame.\n",
      "Try using .loc[row_indexer,col_indexer] = value instead\n",
      "\n",
      "See the caveats in the documentation: http://pandas.pydata.org/pandas-docs/stable/indexing.html#indexing-view-versus-copy\n",
      "/home/LAB/yanhao/anaconda3/lib/python3.6/site-packages/ipykernel_launcher.py:44: SettingWithCopyWarning: \n",
      "A value is trying to be set on a copy of a slice from a DataFrame.\n",
      "Try using .loc[row_indexer,col_indexer] = value instead\n",
      "\n",
      "See the caveats in the documentation: http://pandas.pydata.org/pandas-docs/stable/indexing.html#indexing-view-versus-copy\n"
     ]
    },
    {
     "name": "stdout",
     "output_type": "stream",
     "text": [
      "Fold  1 AUC : 0.697860\n",
      "Training until validation scores don't improve for 100 rounds.\n",
      "[100]\ttrain's auc: 0.837421\tvalid's auc: 0.654547\n",
      "[200]\ttrain's auc: 0.897378\tvalid's auc: 0.680421\n",
      "[300]\ttrain's auc: 0.927408\tvalid's auc: 0.689837\n",
      "[400]\ttrain's auc: 0.946239\tvalid's auc: 0.692704\n",
      "Early stopping, best iteration is:\n",
      "[386]\ttrain's auc: 0.944123\tvalid's auc: 0.693418\n",
      "Fold  2 AUC : 0.693418\n",
      "Training until validation scores don't improve for 100 rounds.\n",
      "[100]\ttrain's auc: 0.777418\tvalid's auc: 0.667252\n",
      "[200]\ttrain's auc: 0.830663\tvalid's auc: 0.692512\n",
      "[300]\ttrain's auc: 0.864063\tvalid's auc: 0.701396\n",
      "[400]\ttrain's auc: 0.877781\tvalid's auc: 0.707042\n",
      "[500]\ttrain's auc: 0.900603\tvalid's auc: 0.710353\n",
      "[600]\ttrain's auc: 0.921972\tvalid's auc: 0.714009\n",
      "[700]\ttrain's auc: 0.929762\tvalid's auc: 0.71443\n",
      "[800]\ttrain's auc: 0.941934\tvalid's auc: 0.714323\n",
      "Early stopping, best iteration is:\n",
      "[769]\ttrain's auc: 0.93842\tvalid's auc: 0.715103\n",
      "Fold  3 AUC : 0.715103\n",
      "Training until validation scores don't improve for 100 rounds.\n",
      "[100]\ttrain's auc: 0.845613\tvalid's auc: 0.660109\n",
      "[200]\ttrain's auc: 0.901984\tvalid's auc: 0.679715\n",
      "[300]\ttrain's auc: 0.930649\tvalid's auc: 0.687646\n",
      "[400]\ttrain's auc: 0.94829\tvalid's auc: 0.694583\n",
      "[500]\ttrain's auc: 0.960024\tvalid's auc: 0.697013\n",
      "[600]\ttrain's auc: 0.969383\tvalid's auc: 0.698319\n",
      "[700]\ttrain's auc: 0.976104\tvalid's auc: 0.698977\n",
      "Early stopping, best iteration is:\n",
      "[670]\ttrain's auc: 0.973637\tvalid's auc: 0.700161\n",
      "Fold  4 AUC : 0.700161\n",
      "Training until validation scores don't improve for 100 rounds.\n",
      "[100]\ttrain's auc: 0.841287\tvalid's auc: 0.650453\n",
      "[200]\ttrain's auc: 0.898213\tvalid's auc: 0.680289\n",
      "[300]\ttrain's auc: 0.927285\tvalid's auc: 0.691467\n",
      "[400]\ttrain's auc: 0.945952\tvalid's auc: 0.697932\n",
      "[500]\ttrain's auc: 0.958606\tvalid's auc: 0.703691\n",
      "[600]\ttrain's auc: 0.967491\tvalid's auc: 0.706283\n",
      "[700]\ttrain's auc: 0.974474\tvalid's auc: 0.706402\n",
      "[800]\ttrain's auc: 0.980125\tvalid's auc: 0.707596\n",
      "[900]\ttrain's auc: 0.984391\tvalid's auc: 0.706245\n",
      "Early stopping, best iteration is:\n",
      "[821]\ttrain's auc: 0.980948\tvalid's auc: 0.708119\n",
      "Fold  5 AUC : 0.708119\n",
      "Full AUC score 0.702640\n"
     ]
    },
    {
     "name": "stderr",
     "output_type": "stream",
     "text": [
      "/home/LAB/yanhao/anaconda3/lib/python3.6/site-packages/ipykernel_launcher.py:57: SettingWithCopyWarning: \n",
      "A value is trying to be set on a copy of a slice from a DataFrame.\n",
      "Try using .loc[row_indexer,col_indexer] = value instead\n",
      "\n",
      "See the caveats in the documentation: http://pandas.pydata.org/pandas-docs/stable/indexing.html#indexing-view-versus-copy\n"
     ]
    },
    {
     "name": "stdout",
     "output_type": "stream",
     "text": [
      "(15166, 628) (3793, 628) (6000, 628)\n",
      "Training until validation scores don't improve for 100 rounds.\n",
      "[100]\ttrain's auc: 0.876863\tvalid's auc: 0.647126\n",
      "[200]\ttrain's auc: 0.931048\tvalid's auc: 0.671674\n",
      "[300]\ttrain's auc: 0.957684\tvalid's auc: 0.683798\n",
      "[400]\ttrain's auc: 0.974072\tvalid's auc: 0.684903\n",
      "[500]\ttrain's auc: 0.984298\tvalid's auc: 0.688781\n",
      "[600]\ttrain's auc: 0.990408\tvalid's auc: 0.691967\n",
      "[700]\ttrain's auc: 0.99401\tvalid's auc: 0.69279\n",
      "[800]\ttrain's auc: 0.995838\tvalid's auc: 0.695127\n",
      "Early stopping, best iteration is:\n",
      "[756]\ttrain's auc: 0.994971\tvalid's auc: 0.695484\n",
      "Fold  1 AUC : 0.695484\n",
      "Training until validation scores don't improve for 100 rounds.\n",
      "[100]\ttrain's auc: 0.882734\tvalid's auc: 0.651927\n",
      "[200]\ttrain's auc: 0.932195\tvalid's auc: 0.667218\n",
      "[300]\ttrain's auc: 0.958085\tvalid's auc: 0.673299\n",
      "[400]\ttrain's auc: 0.973305\tvalid's auc: 0.677441\n",
      "[500]\ttrain's auc: 0.98321\tvalid's auc: 0.679798\n",
      "[600]\ttrain's auc: 0.988725\tvalid's auc: 0.68085\n",
      "Early stopping, best iteration is:\n",
      "[577]\ttrain's auc: 0.987683\tvalid's auc: 0.681708\n",
      "Fold  2 AUC : 0.681708\n",
      "Training until validation scores don't improve for 100 rounds.\n",
      "[100]\ttrain's auc: 0.823409\tvalid's auc: 0.675719\n",
      "[200]\ttrain's auc: 0.87739\tvalid's auc: 0.709846\n",
      "[300]\ttrain's auc: 0.905539\tvalid's auc: 0.716844\n",
      "[400]\ttrain's auc: 0.915586\tvalid's auc: 0.72054\n",
      "[500]\ttrain's auc: 0.934999\tvalid's auc: 0.722559\n",
      "[600]\ttrain's auc: 0.954948\tvalid's auc: 0.722615\n",
      "[700]\ttrain's auc: 0.962728\tvalid's auc: 0.723131\n",
      "Early stopping, best iteration is:\n",
      "[660]\ttrain's auc: 0.957313\tvalid's auc: 0.723857\n",
      "Fold  3 AUC : 0.723857\n",
      "Training until validation scores don't improve for 100 rounds.\n",
      "[100]\ttrain's auc: 0.878559\tvalid's auc: 0.678536\n",
      "[200]\ttrain's auc: 0.931854\tvalid's auc: 0.703613\n",
      "[300]\ttrain's auc: 0.958068\tvalid's auc: 0.715339\n",
      "[400]\ttrain's auc: 0.974298\tvalid's auc: 0.721776\n",
      "[500]\ttrain's auc: 0.9839\tvalid's auc: 0.723184\n",
      "[600]\ttrain's auc: 0.9894\tvalid's auc: 0.725448\n",
      "[700]\ttrain's auc: 0.993007\tvalid's auc: 0.726371\n",
      "Early stopping, best iteration is:\n",
      "[679]\ttrain's auc: 0.992701\tvalid's auc: 0.727529\n",
      "Fold  4 AUC : 0.727529\n",
      "Training until validation scores don't improve for 100 rounds.\n",
      "[100]\ttrain's auc: 0.877874\tvalid's auc: 0.653055\n",
      "[200]\ttrain's auc: 0.930822\tvalid's auc: 0.671645\n",
      "[300]\ttrain's auc: 0.957099\tvalid's auc: 0.674979\n",
      "[400]\ttrain's auc: 0.973629\tvalid's auc: 0.681542\n",
      "[500]\ttrain's auc: 0.982657\tvalid's auc: 0.683776\n",
      "Early stopping, best iteration is:\n",
      "[498]\ttrain's auc: 0.98264\tvalid's auc: 0.683967\n",
      "Fold  5 AUC : 0.683967\n",
      "Full AUC score 0.702226\n",
      "(15166, 628) (3793, 628) (6000, 628)\n",
      "Training until validation scores don't improve for 100 rounds.\n",
      "[100]\ttrain's auc: 0.833071\tvalid's auc: 0.656753\n",
      "[200]\ttrain's auc: 0.886855\tvalid's auc: 0.671736\n",
      "[300]\ttrain's auc: 0.91281\tvalid's auc: 0.680321\n",
      "[400]\ttrain's auc: 0.922034\tvalid's auc: 0.683525\n",
      "[500]\ttrain's auc: 0.942414\tvalid's auc: 0.685342\n",
      "[600]\ttrain's auc: 0.959301\tvalid's auc: 0.689293\n",
      "[700]\ttrain's auc: 0.966273\tvalid's auc: 0.690567\n",
      "[800]\ttrain's auc: 0.975267\tvalid's auc: 0.689955\n",
      "Early stopping, best iteration is:\n",
      "[789]\ttrain's auc: 0.974176\tvalid's auc: 0.690787\n",
      "Fold  1 AUC : 0.690787\n",
      "Training until validation scores don't improve for 100 rounds.\n",
      "[100]\ttrain's auc: 0.853997\tvalid's auc: 0.674872\n",
      "[200]\ttrain's auc: 0.910321\tvalid's auc: 0.687816\n",
      "[300]\ttrain's auc: 0.940953\tvalid's auc: 0.696928\n",
      "[400]\ttrain's auc: 0.959691\tvalid's auc: 0.69895\n",
      "[500]\ttrain's auc: 0.971532\tvalid's auc: 0.700906\n",
      "[600]\ttrain's auc: 0.980275\tvalid's auc: 0.70115\n",
      "[700]\ttrain's auc: 0.985855\tvalid's auc: 0.702333\n",
      "[800]\ttrain's auc: 0.989526\tvalid's auc: 0.703947\n",
      "[900]\ttrain's auc: 0.992062\tvalid's auc: 0.704488\n",
      "[1000]\ttrain's auc: 0.993699\tvalid's auc: 0.704276\n",
      "[1100]\ttrain's auc: 0.994924\tvalid's auc: 0.704808\n",
      "[1200]\ttrain's auc: 0.995963\tvalid's auc: 0.705379\n",
      "Early stopping, best iteration is:\n",
      "[1151]\ttrain's auc: 0.995668\tvalid's auc: 0.70581\n",
      "Fold  2 AUC : 0.705810\n",
      "Training until validation scores don't improve for 100 rounds.\n",
      "[100]\ttrain's auc: 0.848962\tvalid's auc: 0.662417\n",
      "[200]\ttrain's auc: 0.908162\tvalid's auc: 0.67778\n",
      "[300]\ttrain's auc: 0.93939\tvalid's auc: 0.68627\n",
      "[400]\ttrain's auc: 0.959115\tvalid's auc: 0.691731\n",
      "[500]\ttrain's auc: 0.971931\tvalid's auc: 0.694421\n",
      "[600]\ttrain's auc: 0.980671\tvalid's auc: 0.69403\n",
      "Early stopping, best iteration is:\n",
      "[561]\ttrain's auc: 0.977678\tvalid's auc: 0.695202\n",
      "Fold  3 AUC : 0.695202\n",
      "Training until validation scores don't improve for 100 rounds.\n",
      "[100]\ttrain's auc: 0.850602\tvalid's auc: 0.674685\n",
      "[200]\ttrain's auc: 0.904508\tvalid's auc: 0.690965\n",
      "[300]\ttrain's auc: 0.93747\tvalid's auc: 0.701352\n",
      "[400]\ttrain's auc: 0.957475\tvalid's auc: 0.708109\n",
      "[500]\ttrain's auc: 0.971588\tvalid's auc: 0.708721\n",
      "[600]\ttrain's auc: 0.980223\tvalid's auc: 0.709109\n",
      "Early stopping, best iteration is:\n",
      "[591]\ttrain's auc: 0.979673\tvalid's auc: 0.709751\n",
      "Fold  4 AUC : 0.709751\n",
      "Training until validation scores don't improve for 100 rounds.\n",
      "[100]\ttrain's auc: 0.847032\tvalid's auc: 0.664878\n",
      "[200]\ttrain's auc: 0.907289\tvalid's auc: 0.686303\n",
      "[300]\ttrain's auc: 0.939545\tvalid's auc: 0.696398\n",
      "[400]\ttrain's auc: 0.958518\tvalid's auc: 0.700267\n",
      "[500]\ttrain's auc: 0.971406\tvalid's auc: 0.700726\n",
      "[600]\ttrain's auc: 0.98025\tvalid's auc: 0.702748\n",
      "[700]\ttrain's auc: 0.986313\tvalid's auc: 0.704401\n",
      "[800]\ttrain's auc: 0.989936\tvalid's auc: 0.705129\n",
      "[900]\ttrain's auc: 0.992798\tvalid's auc: 0.707895\n",
      "[1000]\ttrain's auc: 0.994007\tvalid's auc: 0.709052\n",
      "[1100]\ttrain's auc: 0.995604\tvalid's auc: 0.708362\n",
      "Early stopping, best iteration is:\n",
      "[1048]\ttrain's auc: 0.994938\tvalid's auc: 0.709192\n",
      "Fold  5 AUC : 0.709192\n",
      "Full AUC score 0.701659\n",
      "(15166, 628) (3793, 628) (6000, 628)\n",
      "Training until validation scores don't improve for 100 rounds.\n",
      "[100]\ttrain's auc: 0.855005\tvalid's auc: 0.661995\n",
      "[200]\ttrain's auc: 0.911226\tvalid's auc: 0.68267\n",
      "[300]\ttrain's auc: 0.941133\tvalid's auc: 0.685482\n",
      "[400]\ttrain's auc: 0.958497\tvalid's auc: 0.687513\n",
      "[500]\ttrain's auc: 0.970775\tvalid's auc: 0.689118\n",
      "[600]\ttrain's auc: 0.978833\tvalid's auc: 0.686872\n",
      "Early stopping, best iteration is:\n",
      "[508]\ttrain's auc: 0.971625\tvalid's auc: 0.689924\n",
      "Fold  1 AUC : 0.689924\n",
      "Training until validation scores don't improve for 100 rounds.\n",
      "[100]\ttrain's auc: 0.855716\tvalid's auc: 0.650933\n",
      "[200]\ttrain's auc: 0.914694\tvalid's auc: 0.671961\n",
      "[300]\ttrain's auc: 0.942608\tvalid's auc: 0.679699\n",
      "[400]\ttrain's auc: 0.95966\tvalid's auc: 0.684616\n",
      "[500]\ttrain's auc: 0.970466\tvalid's auc: 0.687362\n",
      "[600]\ttrain's auc: 0.977241\tvalid's auc: 0.688321\n",
      "[700]\ttrain's auc: 0.982643\tvalid's auc: 0.690189\n",
      "[800]\ttrain's auc: 0.986902\tvalid's auc: 0.691173\n",
      "Early stopping, best iteration is:\n",
      "[776]\ttrain's auc: 0.985903\tvalid's auc: 0.691518\n",
      "Fold  2 AUC : 0.691518\n",
      "Training until validation scores don't improve for 100 rounds.\n",
      "[100]\ttrain's auc: 0.862087\tvalid's auc: 0.658259\n",
      "[200]\ttrain's auc: 0.91343\tvalid's auc: 0.679315\n",
      "[300]\ttrain's auc: 0.940799\tvalid's auc: 0.68948\n",
      "[400]\ttrain's auc: 0.957734\tvalid's auc: 0.693415\n",
      "[500]\ttrain's auc: 0.970409\tvalid's auc: 0.698054\n",
      "[600]\ttrain's auc: 0.978235\tvalid's auc: 0.699692\n",
      "[700]\ttrain's auc: 0.983162\tvalid's auc: 0.698942\n",
      "Early stopping, best iteration is:\n",
      "[616]\ttrain's auc: 0.978807\tvalid's auc: 0.700546\n",
      "Fold  3 AUC : 0.700546\n",
      "Training until validation scores don't improve for 100 rounds.\n",
      "[100]\ttrain's auc: 0.859408\tvalid's auc: 0.681502\n",
      "[200]\ttrain's auc: 0.907212\tvalid's auc: 0.696302\n",
      "[300]\ttrain's auc: 0.936052\tvalid's auc: 0.704006\n",
      "[400]\ttrain's auc: 0.94908\tvalid's auc: 0.708005\n",
      "[500]\ttrain's auc: 0.961987\tvalid's auc: 0.711896\n",
      "[600]\ttrain's auc: 0.972847\tvalid's auc: 0.713936\n",
      "[700]\ttrain's auc: 0.976929\tvalid's auc: 0.714645\n",
      "Early stopping, best iteration is:\n",
      "[674]\ttrain's auc: 0.974444\tvalid's auc: 0.714831\n",
      "Fold  4 AUC : 0.714831\n",
      "Training until validation scores don't improve for 100 rounds.\n",
      "[100]\ttrain's auc: 0.860675\tvalid's auc: 0.665131\n",
      "[200]\ttrain's auc: 0.910252\tvalid's auc: 0.68569\n",
      "[300]\ttrain's auc: 0.938575\tvalid's auc: 0.697872\n",
      "[400]\ttrain's auc: 0.956382\tvalid's auc: 0.703099\n",
      "[500]\ttrain's auc: 0.969293\tvalid's auc: 0.706367\n",
      "[600]\ttrain's auc: 0.977657\tvalid's auc: 0.709771\n",
      "[700]\ttrain's auc: 0.983696\tvalid's auc: 0.710978\n",
      "[800]\ttrain's auc: 0.987635\tvalid's auc: 0.711845\n"
     ]
    },
    {
     "name": "stdout",
     "output_type": "stream",
     "text": [
      "[900]\ttrain's auc: 0.990619\tvalid's auc: 0.711541\n",
      "Early stopping, best iteration is:\n",
      "[821]\ttrain's auc: 0.988375\tvalid's auc: 0.712347\n",
      "Fold  5 AUC : 0.712347\n",
      "Full AUC score 0.701629\n",
      "(15166, 628) (3793, 628) (6000, 628)\n",
      "Training until validation scores don't improve for 100 rounds.\n",
      "[100]\ttrain's auc: 0.867088\tvalid's auc: 0.669407\n",
      "[200]\ttrain's auc: 0.922122\tvalid's auc: 0.692182\n",
      "[300]\ttrain's auc: 0.950453\tvalid's auc: 0.698877\n",
      "[400]\ttrain's auc: 0.968167\tvalid's auc: 0.702705\n",
      "[500]\ttrain's auc: 0.979253\tvalid's auc: 0.704154\n",
      "Early stopping, best iteration is:\n",
      "[493]\ttrain's auc: 0.978942\tvalid's auc: 0.704366\n",
      "Fold  1 AUC : 0.704366\n",
      "Training until validation scores don't improve for 100 rounds.\n",
      "[100]\ttrain's auc: 0.865988\tvalid's auc: 0.683899\n",
      "[200]\ttrain's auc: 0.915184\tvalid's auc: 0.701435\n",
      "[300]\ttrain's auc: 0.948974\tvalid's auc: 0.708484\n",
      "[400]\ttrain's auc: 0.961244\tvalid's auc: 0.713277\n",
      "[500]\ttrain's auc: 0.974227\tvalid's auc: 0.71491\n",
      "Early stopping, best iteration is:\n",
      "[456]\ttrain's auc: 0.970393\tvalid's auc: 0.715032\n",
      "Fold  2 AUC : 0.715032\n",
      "Training until validation scores don't improve for 100 rounds.\n",
      "[100]\ttrain's auc: 0.86896\tvalid's auc: 0.668291\n",
      "[200]\ttrain's auc: 0.921184\tvalid's auc: 0.690839\n",
      "[300]\ttrain's auc: 0.949039\tvalid's auc: 0.695589\n",
      "[400]\ttrain's auc: 0.967564\tvalid's auc: 0.699279\n",
      "[500]\ttrain's auc: 0.977541\tvalid's auc: 0.701376\n",
      "[600]\ttrain's auc: 0.984659\tvalid's auc: 0.701442\n",
      "[700]\ttrain's auc: 0.98958\tvalid's auc: 0.703346\n",
      "[800]\ttrain's auc: 0.992558\tvalid's auc: 0.704286\n",
      "[900]\ttrain's auc: 0.994288\tvalid's auc: 0.704179\n",
      "Early stopping, best iteration is:\n",
      "[817]\ttrain's auc: 0.993101\tvalid's auc: 0.705412\n",
      "Fold  3 AUC : 0.705412\n",
      "Training until validation scores don't improve for 100 rounds.\n",
      "[100]\ttrain's auc: 0.865828\tvalid's auc: 0.650401\n",
      "[200]\ttrain's auc: 0.920967\tvalid's auc: 0.674586\n",
      "[300]\ttrain's auc: 0.949387\tvalid's auc: 0.683516\n",
      "[400]\ttrain's auc: 0.967922\tvalid's auc: 0.68397\n",
      "[500]\ttrain's auc: 0.979558\tvalid's auc: 0.687292\n",
      "[600]\ttrain's auc: 0.986018\tvalid's auc: 0.68844\n",
      "[700]\ttrain's auc: 0.990688\tvalid's auc: 0.689013\n",
      "Early stopping, best iteration is:\n",
      "[630]\ttrain's auc: 0.987636\tvalid's auc: 0.689689\n",
      "Fold  4 AUC : 0.689689\n",
      "Training until validation scores don't improve for 100 rounds.\n",
      "[100]\ttrain's auc: 0.871587\tvalid's auc: 0.65851\n",
      "[200]\ttrain's auc: 0.924791\tvalid's auc: 0.677091\n",
      "[300]\ttrain's auc: 0.951954\tvalid's auc: 0.687934\n",
      "[400]\ttrain's auc: 0.968419\tvalid's auc: 0.68919\n",
      "[500]\ttrain's auc: 0.979283\tvalid's auc: 0.691692\n",
      "[600]\ttrain's auc: 0.986384\tvalid's auc: 0.693181\n",
      "[700]\ttrain's auc: 0.991089\tvalid's auc: 0.693835\n",
      "[800]\ttrain's auc: 0.993767\tvalid's auc: 0.693894\n",
      "Early stopping, best iteration is:\n",
      "[787]\ttrain's auc: 0.993499\tvalid's auc: 0.694677\n",
      "Fold  5 AUC : 0.694677\n",
      "Full AUC score 0.701408\n"
     ]
    }
   ],
   "source": [
    "params_list =[\n",
    " {'boosting_type': 'goss', 'colsample_bytree': 0.8789517928114404, 'learning_rate': 0.015808125454491537, 'max_bin': 880, 'metric': 'auc', 'min_child_weight': 9.15663348426493, 'num_leaves': 129, 'reg_alpha': 46.1851872725305, 'reg_lambda': 694.9478428106884, 'subsample': 1.0, 'verbose': 1, 'seed': 6580},\n",
    " {'boosting_type': 'goss', 'colsample_bytree': 0.8557602070454506, 'learning_rate': 0.015982317941686752, 'max_bin': 800, 'metric': 'auc', 'min_child_weight': 5.564230550095491, 'num_leaves': 118, 'reg_alpha': 24.840163468707626, 'reg_lambda': 633.4853189068382, 'subsample': 1.0, 'verbose': 1, 'seed': 4997},\n",
    " {'boosting_type': 'goss', 'colsample_bytree': 0.6298338994793943, 'learning_rate': 0.01859568652777303, 'max_bin': 840, 'metric': 'auc', 'min_child_weight': 0.333952927570472, 'num_leaves': 60, 'reg_alpha': 32.59439665622528, 'reg_lambda': 814.9101871401995, 'subsample': 1.0, 'verbose': 1, 'seed': 4069},\n",
    " {'boosting_type': 'goss', 'colsample_bytree': 0.8687058739655211, 'learning_rate': 0.01847363528403374, 'max_bin': 780, 'metric': 'auc', 'min_child_weight': 1.9753708845666633, 'num_leaves': 132, 'reg_alpha': 42.60449928039026, 'reg_lambda': 697.9037863096568, 'subsample': 1.0, 'verbose': 1, 'seed': 9779},\n",
    " {'boosting_type': 'goss', 'colsample_bytree': 0.7826797501564828, 'learning_rate': 0.017533025541933332, 'max_bin': 760, 'metric': 'auc', 'min_child_weight': 14.13195762616, 'num_leaves': 91, 'reg_alpha': 26.59764529883372, 'reg_lambda': 783.0357736651754, 'subsample': 1.0, 'verbose': 1, 'seed': 6379}\n",
    "]\n",
    "result = []\n",
    "for i, params in enumerate(params_list):\n",
    "    model_dir = \"../model_output/random/lgb_628/%d/\" % i\n",
    "    result.append(cv(df, 5, params, model_dir))"
   ]
  },
  {
   "cell_type": "code",
   "execution_count": 95,
   "metadata": {},
   "outputs": [
    {
     "data": {
      "text/plain": [
       "[0.70263969065941634,\n",
       " 0.70222563110036418,\n",
       " 0.70165881086583792,\n",
       " 0.70162871412071937,\n",
       " 0.70140848666486488]"
      ]
     },
     "execution_count": 95,
     "metadata": {},
     "output_type": "execute_result"
    }
   ],
   "source": [
    "result"
   ]
  },
  {
   "cell_type": "code",
   "execution_count": 91,
   "metadata": {
    "scrolled": true
   },
   "outputs": [],
   "source": [
    "# params_list =[\n",
    "#  {'boosting_type': 'goss', 'colsample_bytree': 0.6763559283988655, 'learning_rate': 0.01825380539267228, 'max_bin': 660, 'metric': 'auc', 'min_child_weight': 10.799395853190386, 'num_leaves': 168, 'reg_alpha': 33.17114637032081, 'reg_lambda': 790.9627167813759, 'subsample': 1.0, 'verbose': 1},\n",
    "#  {'boosting_type': 'goss', 'colsample_bytree': 0.7685951652752658, 'learning_rate': 0.021662727403280953, 'max_bin': 510, 'metric': 'auc', 'min_child_weight': 9.601137206110081, 'num_leaves': 189, 'reg_alpha': 42.34282656577136, 'reg_lambda': 632.1634663301063, 'subsample': 1.0, 'verbose': 1},\n",
    "#  {'boosting_type': 'goss', 'colsample_bytree': 0.7621940775240458, 'learning_rate': 0.02230476487346519, 'max_bin': 590, 'metric': 'auc', 'min_child_weight': 18.638341031245165, 'num_leaves': 156, 'reg_alpha': 40.67124722501198, 'reg_lambda': 827.062292850617, 'subsample': 1.0, 'verbose': 1},\n",
    "#  {'boosting_type': 'goss', 'colsample_bytree': 0.7848040606199326, 'learning_rate': 0.019545851131539383, 'max_bin': 610, 'metric': 'auc', 'min_child_weight': 15.751419432526315, 'num_leaves': 154, 'reg_alpha': 37.71019047359832, 'reg_lambda': 771.3021799497349, 'subsample': 1.0, 'verbose': 1},\n",
    "#  {'boosting_type': 'goss', 'colsample_bytree': 0.7769871598585915, 'learning_rate': 0.0225987638086461, 'max_bin': 680, 'metric': 'auc', 'min_child_weight': 16.799690425689057, 'num_leaves': 200, 'reg_alpha': 46.95522776917207, 'reg_lambda': 858.5739765649753, 'subsample': 1.0, 'verbose': 1}\n",
    "# ]\n",
    "# result = []\n",
    "# for i, params in enumerate(params_list):\n",
    "#     model_dir = \"../model_output/lgb_628/%d/\" % i\n",
    "#     result.append(cv(df, 5, params, model_dir))"
   ]
  },
  {
   "cell_type": "code",
   "execution_count": 92,
   "metadata": {},
   "outputs": [
    {
     "data": {
      "text/plain": [
       "[0.70113447571038345,\n",
       " 0.69992062401635224,\n",
       " 0.69906313116565111,\n",
       " 0.69829710479455709,\n",
       " 0.69723567924781837]"
      ]
     },
     "execution_count": 92,
     "metadata": {},
     "output_type": "execute_result"
    }
   ],
   "source": [
    "# result"
   ]
  },
  {
   "cell_type": "code",
   "execution_count": null,
   "metadata": {},
   "outputs": [],
   "source": []
  }
 ],
 "metadata": {
  "kernelspec": {
   "display_name": "Python 3",
   "language": "python",
   "name": "python3"
  },
  "language_info": {
   "codemirror_mode": {
    "name": "ipython",
    "version": 3
   },
   "file_extension": ".py",
   "mimetype": "text/x-python",
   "name": "python",
   "nbconvert_exporter": "python",
   "pygments_lexer": "ipython3",
   "version": "3.6.4"
  }
 },
 "nbformat": 4,
 "nbformat_minor": 2
}
